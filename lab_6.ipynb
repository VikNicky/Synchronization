{
 "cells": [
  {
   "cell_type": "markdown",
   "id": "41860a4e",
   "metadata": {},
   "source": [
    "# Лабораторная работа №6\n",
    "## Синтезатор частот и ФАПЧ\n",
    "### Звягин М."
   ]
  },
  {
   "cell_type": "markdown",
   "id": "5117e06e",
   "metadata": {},
   "source": [
    "Импорт библиотек"
   ]
  },
  {
   "cell_type": "code",
   "execution_count": null,
   "id": "c2543dda",
   "metadata": {},
   "outputs": [],
   "source": [
    "import numpy as np\n",
    "import matplotlib.pyplot as plt\n",
    "%matplotlib widget"
   ]
  },
  {
   "cell_type": "markdown",
   "id": "a78276e7",
   "metadata": {},
   "source": [
    "Ниже представлена схема синтезатора частот на основе ФАПЧ. Для ее реализации каждый блок будет представлен в виде функции (блок детектора фазы, блок петлевого фильтра, блок VCO).  \n",
    "\n",
    "В данной работе не будет рассмотрена версия фазового детектора с \"зарядовым насосом\"."
   ]
  },
  {
   "cell_type": "markdown",
   "id": "0af4b91c",
   "metadata": {},
   "source": [
    "<img src = \"pll.png\" align = \"middle\">  "
   ]
  },
  {
   "cell_type": "markdown",
   "id": "ec03f32e",
   "metadata": {},
   "source": [
    "Ниже представлена линеализированная схема PLL\n",
    "\n",
    "<img src = \"pll_lineal.png\" align = \"middle\">  "
   ]
  },
  {
   "cell_type": "markdown",
   "id": "815979af",
   "metadata": {},
   "source": [
    "Сначала рассмотрим работу PLL как отдельной схемы. После проверки ее работы сделаем на ее основе синтезотор частот\n",
    "\n",
    "Хорошие источники:\n",
    "\n",
    "http://www.dsplib.ru/content/pll/pll.html\n",
    "\n",
    "http://www.dsplib.ru/content/dpll/dpll.html"
   ]
  },
  {
   "cell_type": "markdown",
   "id": "87778053",
   "metadata": {},
   "source": [
    "## Схема ФАПЧ\n",
    "ФАПЧ состоит из следующих блоков:\n",
    "1) Фазовый детектор\n",
    "2) Петлевой фильтр\n",
    "3) Генератор, управляемый напряжением"
   ]
  },
  {
   "cell_type": "markdown",
   "id": "2c1884e2",
   "metadata": {},
   "source": [
    "### Фазовый детектор. \n",
    "Вычисляет разность фаз между сигналов с опорного осциллятора (входного сигнала) и сигнала с ГУН\n"
   ]
  },
  {
   "cell_type": "code",
   "execution_count": null,
   "id": "a5d68a13",
   "metadata": {},
   "outputs": [],
   "source": [
    "#Фазовый детектор, представленный ниже, представляет собой обычный умножитель,\n",
    "#на выходе которого получаются компонента с удвоенной частотой и компонента, зависящая от разности фаз\n",
    "#Работает с действительными сигналами\n",
    "def Phase_Detector_Mult(input_vco_sample, input_osc_sample, K_pd):\n",
    "    phase_error = input_vco_sample*input_osc_sample\n",
    "    phase_detector_output = K_pd*phase_error\n",
    "    return phase_detector_output, phase_error\n",
    "\n",
    "#Фазовый детектор, представленный ниже, на выходе дает не сигнал, зависящий от разности фаз, а непосредственно разность фаз\n",
    "#Работает с комплексными сигналами, предстваленными в виде комплексной экспоненты\n",
    "def Phase_Detector_Ideal(input_vco_sample, input_osc_sample, K_pd):\n",
    "    phase_error = np.angle(input_osc_sample*np.conjugate(input_vco_sample))\n",
    "    phase_detector_output = K_pd*phase_error\n",
    "    return phase_detector_output, phase_error\n",
    "\n",
    "fs = 1e5\n",
    "Ts = 1/fs\n",
    "f1 = 2e3\n",
    "f2 = 2.1e3\n",
    "K_pd = 1\n",
    "\n",
    "t = np.arange(0, 2000)/fs\n",
    "s_1 = np.exp(1j*(2*np.pi*f1*t - np.pi/2))\n",
    "s_2 = np.exp(1j*(2*np.pi*f2*t - np.pi/3))\n",
    "\n",
    "s_res = np.zeros(shape=np.shape(s_1))\n",
    "s_res_2 = np.zeros(shape=np.shape(s_1))\n",
    "for i in np.arange(0, len(s_1)):\n",
    "    s_res[i], _ = Phase_Detector_Mult(np.real(s_1[i]), np.real(s_2[i]), K_pd)\n",
    "    s_res_2[i], _ = Phase_Detector_Ideal(s_1[i], s_2[i], K_pd)\n",
    "\n",
    "plt.figure(figsize=(12, 6))\n",
    "plt.subplot(3, 1, 1)\n",
    "plt.plot(t*1e3, s_1)\n",
    "plt.plot(t*1e3, s_2)\n",
    "plt.title('Сигналы на входе фазового детектора')\n",
    "plt.ylabel('Амплиитуда')\n",
    "plt.xlabel('Время, t, мс')\n",
    "plt.grid()\n",
    "\n",
    "plt.subplot(3, 1, 2)\n",
    "plt.plot(t*1e3, s_res, '-')\n",
    "plt.title('Сигнал на выходе фазового детектора (умножитель)')\n",
    "plt.ylabel('Амплиитуда')\n",
    "plt.xlabel('Время, t, мс')\n",
    "plt.grid()\n",
    "plt.tight_layout()\n",
    "\n",
    "plt.subplot(3, 1, 3)\n",
    "plt.plot(t*1e3, s_res_2, '-')\n",
    "plt.title('Сигнал на выходе фазового детектора (прямая разность фаз)')\n",
    "plt.ylabel('Амплиитуда')\n",
    "plt.xlabel('Время, t, мс')\n",
    "plt.grid()\n",
    "plt.tight_layout()"
   ]
  },
  {
   "cell_type": "markdown",
   "id": "0b6e99b4",
   "metadata": {},
   "source": [
    "По полученным графикам видно, что фазовый детектор, реализованный как непосредственная разность фаз, отслеживает фазу сигнала, зависящего от разности фаз (это низкочастотная компонента сигнала, полученная с выхода фазового детектора, реализованного в виде умножителя)\n",
    "\n",
    "Полученный график также показывает работу идеального фазового детектора, который имеет полный рабочий диапазон от -pi до pi, не подвержен шумам и не имеет мертвой зоны"
   ]
  },
  {
   "cell_type": "markdown",
   "id": "5b26cd94",
   "metadata": {},
   "source": [
    "Добавим в функцию фазового детектора некоторые неидеальности. Так как на таком высоком уровне нельзя внести неидеальности в умножиетель (и чтобы не моделировать каким-либо образом работу умножителя), неидеальности будут введены только в функцию фазового детектора, который реализован как непосредственная разность фаз.\n",
    "\n",
    "В качестве неисправностей добавим небольшой случайный шум и мертвую зону"
   ]
  },
  {
   "cell_type": "code",
   "execution_count": null,
   "id": "43614ec6",
   "metadata": {},
   "outputs": [],
   "source": [
    "def Phase_Detector_Non_Ideal(input_vco_sample, input_osc_sample, K_pd, dead_zone, jitter_std):\n",
    "    phase_error = np.angle(input_osc_sample*np.conjugate(input_vco_sample))\n",
    "\n",
    "    if abs(phase_error) < dead_zone:\n",
    "        phase_error = 0.0\n",
    "    elif phase_error > 0:\n",
    "        phase_error -= dead_zone/2\n",
    "    else:\n",
    "        phase_error += dead_zone/2\n",
    "        \n",
    "    phase_error += np.random.normal(0, jitter_std)\n",
    "    phase_detector_output = K_pd*phase_error\n",
    "    \n",
    "    return phase_detector_output, phase_error\n"
   ]
  },
  {
   "cell_type": "code",
   "execution_count": null,
   "id": "d26e1720",
   "metadata": {},
   "outputs": [],
   "source": [
    "dead_zone = 0.25\n",
    "jitter_std = 0.01\n",
    "\n",
    "phase_error_log = np.zeros_like(s_1)\n",
    "phase_detector_output_log = np.zeros_like(s_2)\n",
    "for i in np.arange(0, len(s_1)):\n",
    "    phase_detector_output_log[i], phase_error_log[i] = Phase_Detector_Non_Ideal(s_1[i], s_2[i], K_pd, dead_zone, jitter_std)\n",
    "\n",
    "plt.figure()\n",
    "plt.subplot(2, 1, 1)\n",
    "plt.plot(t*1e3, s_1)\n",
    "plt.plot(t*1e3, s_2)\n",
    "plt.title('Тестовые сигналы во временной области')\n",
    "plt.xlabel('t, мс')\n",
    "plt.ylabel('Амплитуда')\n",
    "plt.grid()\n",
    "\n",
    "plt.subplot(2, 1, 2)\n",
    "plt.plot(phase_detector_output_log, label = 'Неидеальный фазовый детектор')\n",
    "plt.plot(s_res_2, '--', label = 'Идеальный фазовый детектор')\n",
    "plt.title('Выход фазового детектора')\n",
    "plt.ylabel('Амплитуда')\n",
    "plt.grid()\n",
    "plt.legend()\n",
    "plt.tight_layout()\n"
   ]
  },
  {
   "cell_type": "markdown",
   "id": "378310e9",
   "metadata": {},
   "source": [
    "Теперь на графиках видно появление мертвой зоны и небольшого джиттера"
   ]
  },
  {
   "cell_type": "markdown",
   "id": "b10a6e66",
   "metadata": {},
   "source": [
    "### Петлевой фильтр. \n",
    "Используется для преобразования выхода фазового детектора в управляющее значение напряжения для ГУН. От настроек коэффициентов петлевого фильтра будет зависеть компромисс между временем установления (захвата) и точностью в период удержания. Также от значений зависит полоса удержания и полоса пропускания системы ФАПЧ.\n",
    "\n",
    "В данной работе в качестве петлевого фильтра был выбран пропорционально-интегрирующий фильтр\n",
    "\n",
    "<img src = \"loop_filt.png\" align = \"middle\">  \n",
    "\n",
    "Формула математического описания работы фильтра:\n",
    "$$e(n) = K_p \\cdot v(n) + K_i \\cdot \\sum_{i=0}^{n} v(i)$$ \n",
    "\n",
    "Формула передаточной функции фильтра:\n",
    "$$H(s) = K_p + \\frac{K_i}{s}, s = j\\omega$$"
   ]
  },
  {
   "cell_type": "code",
   "execution_count": null,
   "id": "e9f8045e",
   "metadata": {},
   "outputs": [],
   "source": [
    "def Loop_Filt(current_sample, K_i, K_p):\n",
    "    global integral_out\n",
    "    \n",
    "    proportional_out = current_sample*K_p\n",
    "    integral_out += current_sample\n",
    "    filtered_out = proportional_out + K_i*integral_out\n",
    "    \n",
    "    return integral_out, filtered_out"
   ]
  },
  {
   "cell_type": "markdown",
   "id": "58d2fdf9",
   "metadata": {},
   "source": [
    "Рассмотрим влияние фильтра на функцию единичной ступеньки"
   ]
  },
  {
   "cell_type": "code",
   "execution_count": null,
   "id": "6c99e236",
   "metadata": {},
   "outputs": [],
   "source": [
    "test_signal = np.heaviside(np.arange(-100, 100), 0.5)\n",
    "K_i = 0.001\n",
    "K_p = 0.5\n",
    "integral_out = 0\n",
    "\n",
    "integral_out_log = []\n",
    "phase_error_filtered_log = []\n",
    "\n",
    "\n",
    "for i in np.arange(0, len(test_signal)):\n",
    "    out_1, out_2 = Loop_Filt(test_signal[i], K_i, K_p)\n",
    "    integral_out_log.append(out_1)\n",
    "    phase_error_filtered_log.append(out_2)\n",
    "    \n",
    "\n",
    "integral_out_log = np.reshape(integral_out_log, (len(test_signal), 1))\n",
    "phase_error_filtered_log = np.reshape(phase_error_filtered_log, (len(test_signal), 1))\n",
    "\n",
    "plt.figure()\n",
    "plt.plot(np.arange(0, len(phase_error_filtered_log))/fs*1e6, phase_error_filtered_log, '-', label = 'Выход фильтра')\n",
    "plt.plot(np.arange(0, len(test_signal))/fs*1e6, test_signal, '--', label = 'Вход фильтра')\n",
    "plt.title('Зависимость выхода фильтра от времени')\n",
    "plt.xlabel('Время t, мкс ')\n",
    "plt.ylabel('Напряжение, В')\n",
    "plt.grid()\n",
    "plt.legend()\n"
   ]
  },
  {
   "cell_type": "markdown",
   "id": "3418e6a3",
   "metadata": {},
   "source": [
    "Рассмотрим влияние фильтра на синусоидальную функцию"
   ]
  },
  {
   "cell_type": "code",
   "execution_count": null,
   "id": "b3523c82",
   "metadata": {},
   "outputs": [],
   "source": [
    "f = 1000\n",
    "t = np.arange(0, 2*fs/f)/fs\n",
    "test_signal = np.sin(2*np.pi*f*t)\n",
    "K_i = 0.001\n",
    "K_p = 1\n",
    "integral_out = 0\n",
    "\n",
    "integral_out_log = []\n",
    "phase_error_filtered_log = []\n",
    "\n",
    "\n",
    "for i in np.arange(0, len(test_signal)):\n",
    "    out_1, out_2 = Loop_Filt(test_signal[i], K_i, K_p)\n",
    "    integral_out_log.append(out_1)\n",
    "    phase_error_filtered_log.append(out_2)\n",
    "    \n",
    "\n",
    "integral_out_log = np.reshape(integral_out_log, (len(test_signal), 1))\n",
    "phase_error_filtered_log = np.reshape(phase_error_filtered_log, (len(test_signal), 1))\n",
    "\n",
    "plt.figure()\n",
    "plt.plot(np.arange(0, len(phase_error_filtered_log))/fs*1e6, phase_error_filtered_log, '-', label = 'Выход фильтра')\n",
    "plt.plot(np.arange(0, len(test_signal))/fs*1e6, test_signal, '--', label = 'Вход фильтра')\n",
    "plt.title('Зависимость выхода фильтра от времени')\n",
    "plt.xlabel('Время t, мкс ')\n",
    "plt.ylabel('Напряжение, В')\n",
    "plt.grid()\n",
    "plt.legend()\n",
    "\n",
    "signal_test = phase_error_filtered_log"
   ]
  },
  {
   "cell_type": "markdown",
   "id": "190f5469",
   "metadata": {},
   "source": [
    "Рассмотрим влияние фильтра на одиночный импульс"
   ]
  },
  {
   "cell_type": "code",
   "execution_count": null,
   "id": "94312b36",
   "metadata": {},
   "outputs": [],
   "source": [
    "test_signal = np.zeros((500, 1))\n",
    "test_signal[250] = 1\n",
    "\n",
    "K_i = 0.5\n",
    "K_p = 1\n",
    "integral_out = 0\n",
    "\n",
    "integral_out_log = []\n",
    "phase_error_filtered_log = []\n",
    "\n",
    "\n",
    "for i in np.arange(0, len(test_signal)):\n",
    "    out_1, out_2 = Loop_Filt(test_signal[i], K_i, K_p)\n",
    "    integral_out_log.append(out_1)\n",
    "    phase_error_filtered_log.append(out_2)\n",
    "    \n",
    "\n",
    "integral_out_log = np.reshape(integral_out_log, (len(test_signal), 1))\n",
    "phase_error_filtered_log = np.reshape(phase_error_filtered_log, (len(test_signal), 1))\n",
    "\n",
    "plt.figure()\n",
    "plt.plot(np.arange(0, len(phase_error_filtered_log))/fs*1e6, phase_error_filtered_log, '-', label = 'Выход фильтра')\n",
    "plt.plot(np.arange(0, len(test_signal))/fs*1e6, test_signal, '--', label = 'Вход фильтра')\n",
    "plt.title('Зависимость выхода фильтра от времени')\n",
    "plt.xlabel('Время t, мкс ')\n",
    "plt.ylabel('Напряжение, В')\n",
    "plt.grid()\n",
    "plt.legend()"
   ]
  },
  {
   "cell_type": "markdown",
   "id": "cad8296d",
   "metadata": {},
   "source": [
    "Рассмотрим АЧХ петлевого фильтра"
   ]
  },
  {
   "cell_type": "code",
   "execution_count": null,
   "id": "73e00b3e",
   "metadata": {},
   "outputs": [],
   "source": [
    "w = np.logspace(-5, 5, 10000)\n",
    "K_i = 0.8\n",
    "K_p = 1\n",
    "H = K_p + K_i / (1j * w)\n",
    "magnitude = np.abs(H) \n",
    "phase = np.angle(H, deg=True)\n",
    "\n",
    "plt.figure(figsize=(10, 6))\n",
    "plt.subplot(2, 1, 1)\n",
    "plt.semilogx(w/(2*np.pi), 20 * np.log10(magnitude))\n",
    "plt.title('АЧХ петлевого фильтра')\n",
    "plt.xlabel('Частота, Гц')\n",
    "plt.ylabel('Уровень, дБ')\n",
    "plt.grid(which='both', linestyle='--', linewidth=0.7)\n",
    "\n",
    "plt.subplot(2, 1, 2)\n",
    "plt.semilogx(w/(2*np.pi), phase)\n",
    "plt.title('Фазовая характеристика PI-фильтра')\n",
    "plt.xlabel('Частота, Гц')\n",
    "plt.ylabel('Фаза, градусы')\n",
    "plt.grid(True, which='both', linestyle='--')\n",
    "plt.tight_layout()\n",
    "\n"
   ]
  },
  {
   "cell_type": "markdown",
   "id": "ee2c3e00",
   "metadata": {},
   "source": [
    "При стремлении частоты к 0 амплитуда сигнала на выходе фильтра растет, так как будет накапливать интегратор. \n",
    "При увеличении частоты амплитуда сигнала стремится к постоянному значению, так как средний выход интегратора будет равен 0, а на выходе будет сигнал с амплитудой равной произведению амплитуды входного сигнала на пропорциональный коэффициент K_p"
   ]
  },
  {
   "cell_type": "markdown",
   "id": "c4efd321",
   "metadata": {},
   "source": [
    "Построим зависимости АЧХ от коэффициентов Ki и Kp"
   ]
  },
  {
   "cell_type": "code",
   "execution_count": null,
   "id": "a2396864",
   "metadata": {},
   "outputs": [],
   "source": [
    "w = np.logspace(-5, 5, 10000)\n",
    "K_i = np.arange(1, 10)/10\n",
    "K_p = np.arange(1, 10)/10\n",
    "\n",
    "plt.figure(figsize=(10, 6))\n",
    "\n",
    "for k_i in K_i:\n",
    "    H = 1 + k_i / (1j * w)\n",
    "    magnitude = np.abs(H) \n",
    "    phase = np.angle(H, deg=True)\n",
    "    \n",
    "    plt.subplot(2, 1, 1)\n",
    "    plt.semilogx(w/(2*np.pi), 20 * np.log10(magnitude), label = f'K_i = {k_i}, K_p = 1')\n",
    "    plt.title('АЧХ петлевого фильтра')\n",
    "    plt.xlabel('Частота, Гц')\n",
    "    plt.ylabel('Уровень, дБ')\n",
    "    plt.grid()\n",
    "    plt.legend()\n",
    "    \n",
    "    plt.subplot(2, 1, 2)\n",
    "    plt.semilogx(w/(2*np.pi), phase, label = f'K_i = {k_i}, K_p = 1')\n",
    "    plt.title('Фазовая характеристика PI-фильтра')\n",
    "    plt.xlabel('Частота, Гц')\n",
    "    plt.ylabel('Фаза, градусы')\n",
    "    plt.grid(True, which='both', linestyle='--')\n",
    "    plt.tight_layout()\n",
    "    plt.legend()\n",
    "    \n",
    "    \n",
    "    "
   ]
  },
  {
   "cell_type": "markdown",
   "id": "54e3fe6e",
   "metadata": {},
   "source": [
    "### Генератор, управляемый напряжение\n",
    "По сигналу ошибки с петлевого фильтра он генерирует локальный сигнал.\n",
    "\n",
    "Математическая формула:\n",
    "1) Выходной сигнал с ГУН\n",
    "$$\\cos \\left( \\omega_0 \\cdot t + K_{vco} \\cdot \\int_{0}^{t} e(t) \\, dt \\right)$$\n",
    "\n",
    "2) Мгновенная частота\n",
    "$$\\omega(t) = \\omega_0 + K_0 \\cdot e(t)$$\n",
    "\n",
    "Где e(t) - управляющий сигнал ошибки с выхода петлевого фильтра"
   ]
  },
  {
   "cell_type": "code",
   "execution_count": null,
   "id": "4fce5380",
   "metadata": {},
   "outputs": [],
   "source": [
    "def VCO(phase_error_filtered_sample, K_vco, f_vco, t):\n",
    "    global vco_phase\n",
    "    vco_phase += K_vco*phase_error_filtered_sample\n",
    "    vco_freq = 2*np.pi*f_vco*t + vco_phase\n",
    "    vco_output = np.exp(1j*vco_freq)\n",
    "    return vco_output, vco_freq, vco_phase"
   ]
  },
  {
   "cell_type": "code",
   "execution_count": null,
   "id": "6020809d",
   "metadata": {},
   "outputs": [],
   "source": [
    "vco_phase = 0\n",
    "vco_output = np.zeros((np.shape(signal_test)))\n",
    "vco_freq = np.zeros((np.shape(signal_test)))\n",
    "vco_phase_ = np.zeros((np.shape(signal_test)))\n",
    "\n",
    "\n",
    "for i in np.arange(1, len(signal_test)):\n",
    "    vco_output[i], vco_freq[i], vco_phase_[i] = VCO(signal_test[i], 1, 1, t[i])\n",
    "    \n",
    "plt.figure()\n",
    "plt.subplot(2, 1, 1)\n",
    "plt.plot(np.arange(0, len(signal_test))/fs*1e6, signal_test, '-', label = 'Управляющий сигнал')\n",
    "plt.title('Управляющий сигнал с выхода петлевого фильтра')\n",
    "plt.xlabel('Время t, мкс ')\n",
    "plt.grid()\n",
    "plt.legend()\n",
    "\n",
    "plt.subplot(2, 1, 2)\n",
    "plt.plot(np.arange(0, len(vco_freq))/fs*1e6, vco_freq, '-', label = 'Частота ГУН')\n",
    "plt.title('Мгновенная частота ГУН')\n",
    "plt.xlabel('Время t, мкс ')\n",
    "plt.grid()\n",
    "plt.legend()\n",
    "plt.tight_layout()"
   ]
  },
  {
   "cell_type": "markdown",
   "id": "8f1aac1a",
   "metadata": {},
   "source": [
    "Из полученных графиков видно, что мгновенная частота ГУН растет при положительном значении управляющего напряжения (чем выше значение, тем быстрее рост) и уменьшается при отрицательном значении, что соответствует его корректной работы "
   ]
  },
  {
   "cell_type": "markdown",
   "id": "fe473d12",
   "metadata": {},
   "source": [
    "### Система ФАПЧ"
   ]
  },
  {
   "cell_type": "markdown",
   "id": "1c466b6f",
   "metadata": {},
   "source": [
    "Соберем разобранные блоки к единую систему"
   ]
  },
  {
   "cell_type": "code",
   "execution_count": null,
   "id": "d401d11f",
   "metadata": {},
   "outputs": [],
   "source": [
    "fs = 1e6\n",
    "Ts = 1/fs\n",
    "vco_phase = 0\n",
    "integral_out = 0\n",
    "\n",
    "f_vco = 1500\n",
    "f_sig = f_vco + 500\n",
    "t = np.arange(0, 100*fs/f_sig)/fs\n",
    "\n",
    "K_vco = 1\n",
    "K_pd = 1\n",
    "\n",
    "w_resonans = 2*np.pi*500\n",
    "demp_factor = 0.5\n",
    "\n",
    "g_1 = 2*(1 - np.exp(-w_resonans*demp_factor*Ts)*np.cos(w_resonans*np.sqrt(1-demp_factor**2)*Ts))\n",
    "g_2 = np.exp(-2*w_resonans*demp_factor*Ts) - 1 + g_1\n",
    "\n",
    "K_i = g_2/(K_vco*K_pd)\n",
    "K_p = g_1/(K_vco*K_pd)\n",
    "\n",
    "\n",
    "signal_input = np.sin(2*np.pi*f_sig*t + np.pi/3)\n",
    "\n",
    "phase_detector_out = np.zeros((np.shape(signal_input)))\n",
    "phase_detector_out[0] = K_pd*signal_input[0]*np.cos(2*np.pi*f_vco*t[0])\n",
    "\n",
    "loop_filt_out = np.zeros((np.shape(signal_input)))\n",
    "loop_filt_out[0] = K_p*phase_detector_out[0]\n",
    "\n",
    "phase_vco = np.zeros((np.shape(signal_input)))\n",
    "freq_vco = np.zeros((np.shape(signal_input)))\n",
    "\n",
    "vco_out = np.zeros((np.shape(signal_input)))\n",
    "vco_out[0], freq_vco[0], phase_vco[0] = np.real(VCO(0, K_vco, f_vco, t[0]))\n",
    "\n",
    "signal_error = np.zeros((np.shape(signal_input)))\n",
    "signal_out = np.zeros((np.shape(signal_input)))\n",
    "\n",
    "\n",
    "for i in np.arange(1, len(signal_input)):\n",
    "    \n",
    "    phase_detector_out[i], _ = Phase_Detector_Mult(signal_input[i], vco_out[i-1], K_pd)\n",
    "    _, loop_filt_out[i] = Loop_Filt(phase_detector_out[i], K_i, K_p)\n",
    "    vco_out[i], freq_vco[i], phase_vco[i] = np.real(VCO(loop_filt_out[i], K_vco, f_vco, t[i]))\n",
    "    signal_out[i] = np.sin(freq_vco[i])\n",
    "    signal_error[i] = signal_input[i] - signal_out[i]\n",
    "    \n",
    "plt.figure(figsize=(10,10))\n",
    "plt.subplot(5, 1, 5)\n",
    "plt.plot(np.arange(0, len(signal_error))/fs*1e6, signal_error, '-', label = 'Сигнал ошибки')\n",
    "plt.title('Ошибка ФАПЧ')\n",
    "plt.xlabel('Время t, мкс ')\n",
    "plt.ylabel('Амплитуда')\n",
    "plt.grid()\n",
    "plt.legend()\n",
    " \n",
    "plt.subplot(5, 1, 1)\n",
    "plt.plot(np.arange(0, len(phase_detector_out))/fs*1e6, phase_detector_out, '-', label = 'Выход фазового детектора')\n",
    "plt.title('Вызод фазового детектора')\n",
    "plt.xlabel('Время t, мкс ')\n",
    "plt.ylabel('Амплитуда')\n",
    "plt.grid()\n",
    "plt.legend()\n",
    "\n",
    "plt.subplot(5, 1, 2)\n",
    "plt.plot(np.arange(0, len(loop_filt_out))/fs*1e6, loop_filt_out, '-', label = 'Выход петлевого фильтра')\n",
    "plt.title('Вызод петлевого фильтра')\n",
    "plt.xlabel('Время t, мкс ')\n",
    "plt.ylabel('Амплитуда')\n",
    "plt.grid()\n",
    "plt.legend()\n",
    "\n",
    "plt.subplot(5, 1, 4)\n",
    "plt.plot(np.arange(0, len(signal_out))/fs*1e6, signal_out, '-', label = 'Выходной сигнал')\n",
    "plt.plot(np.arange(0, len(signal_input))/fs*1e6, signal_input, '--', label = 'Входной сигнал')\n",
    "plt.title('Сравнение входного и выходного сигналов')\n",
    "plt.xlabel('Время t, мкс ')\n",
    "plt.grid()\n",
    "plt.legend()\n",
    "\n",
    "plt.subplot(5, 1, 3)\n",
    "plt.plot(np.arange(0, len(freq_vco))/fs*1e6, freq_vco/(2*np.pi*t), '-', label = 'Частота ГУН')\n",
    "plt.title('Частота ГУН')\n",
    "plt.xlabel('Время t, мкс ')\n",
    "plt.grid()\n",
    "plt.legend()\n",
    "plt.tight_layout()\n"
   ]
  },
  {
   "cell_type": "markdown",
   "id": "03fa4306",
   "metadata": {},
   "source": [
    "Построим АЧХ для ФАПЧ"
   ]
  },
  {
   "cell_type": "code",
   "execution_count": null,
   "id": "b8580933",
   "metadata": {},
   "outputs": [],
   "source": [
    "w = np.logspace(-5, 5, 10000)\n",
    "w_resonans = 2*np.pi*500\n",
    "demp_factor = 0.5\n",
    "\n",
    "H = (2*demp_factor*w_resonans*(1j * w) + w_resonans**2)/((1j * w)**2 + 2*demp_factor*w_resonans*(1j * w) +  w_resonans**2)\n",
    "magnitude = np.abs(H) \n",
    "phase = np.angle(H, deg=True)\n",
    "\n",
    "plt.figure(figsize=(10, 6))\n",
    "plt.subplot(2, 1, 1)\n",
    "plt.semilogx(w/(2*np.pi), 20 * np.log10(magnitude))\n",
    "plt.title('АЧХ ФАПЧ')\n",
    "plt.xlabel('Частота, Гц')\n",
    "plt.ylabel('Уровень, дБ')\n",
    "plt.grid(which='both', linestyle='--', linewidth=0.7)\n",
    "\n",
    "plt.subplot(2, 1, 2)\n",
    "plt.semilogx(w/(2*np.pi), phase)\n",
    "plt.title('Фазовая характеристика ФАПЧ')\n",
    "plt.xlabel('Частота, Гц')\n",
    "plt.ylabel('Фаза, градусы')\n",
    "plt.grid(True, which='both', linestyle='--')\n",
    "plt.tight_layout()\n",
    "\n"
   ]
  },
  {
   "cell_type": "markdown",
   "id": "132f2d9f",
   "metadata": {},
   "source": [
    "Для фиксированных значений резонансной частоты и коэффициента ослабления, а также коэффициентов петлевого фильтра, фазового детектора и генератора, управляемого напряжением, определим полосу захвата и полосу удержания.\n",
    "\n",
    "Полоса захвата - максимальное отклонение входной частоты, при котором петля сможет захватить и синхронизировать сигнал ГУН\n",
    "\n",
    "Полоса удержания - максимальное отклонение входной частоты (когда петля уже синхронизирована), при котором петля не потеряет синхронизацию\n"
   ]
  },
  {
   "cell_type": "markdown",
   "id": "b6805c33",
   "metadata": {},
   "source": [
    "Для удобства напишем функцию, которая выполняет работу ФАПЧ"
   ]
  },
  {
   "cell_type": "code",
   "execution_count": null,
   "id": "18aef657",
   "metadata": {},
   "outputs": [],
   "source": [
    "def PLL(fs, f_vco, f_sig, p_sig, K_vco, K_pd, w_resonans, demp_factor, visible):\n",
    "    \n",
    "    Ts = 1/fs\n",
    "    t = np.arange(0, 100*fs/f_sig)/fs\n",
    "\n",
    "    g_1 = 2*(1 - np.exp(-w_resonans*demp_factor*Ts)*np.cos(w_resonans*np.sqrt(1.0-demp_factor**2)*Ts))\n",
    "    g_2 = np.exp(-2*w_resonans*demp_factor*Ts) - 1 + g_1\n",
    "\n",
    "    K_i = g_2/(K_vco*K_pd)\n",
    "    K_p = g_1/(K_vco*K_pd)\n",
    "\n",
    "    signal_input = np.sin(2*np.pi*f_sig*t + p_sig)\n",
    "\n",
    "    phase_detector_out = np.zeros((np.shape(signal_input)))\n",
    "    phase_detector_out[0] = K_pd*signal_input[0]*np.cos(2*np.pi*f_vco*t[0])\n",
    "\n",
    "    loop_filt_out = np.zeros((np.shape(signal_input)))\n",
    "    loop_filt_out[0] = K_p*phase_detector_out[0]\n",
    "\n",
    "    phase_vco = np.zeros((np.shape(signal_input)))\n",
    "    freq_vco = np.zeros((np.shape(signal_input)))\n",
    "\n",
    "    vco_out = np.zeros((np.shape(signal_input)))\n",
    "    vco_out[0], freq_vco[0], phase_vco[0] = np.real(VCO(0, K_vco, f_vco, t[0]))\n",
    "\n",
    "    signal_error = np.zeros((np.shape(signal_input)))\n",
    "    signal_out = np.zeros((np.shape(signal_input)))\n",
    "\n",
    "\n",
    "    for i in np.arange(1, len(signal_input)):\n",
    "        \n",
    "        phase_detector_out[i], _ = Phase_Detector_Mult(signal_input[i], vco_out[i-1], K_pd)\n",
    "        _, loop_filt_out[i] = Loop_Filt(phase_detector_out[i], K_i, K_p)\n",
    "        vco_out[i], freq_vco[i], phase_vco[i] = np.real(VCO(loop_filt_out[i], K_vco, f_vco, t[i]))\n",
    "        signal_out[i] = np.sin(freq_vco[i])\n",
    "        signal_error[i] = signal_input[i] - signal_out[i]\n",
    "    \n",
    "    if visible == True:\n",
    "        plt.figure(figsize=(12, 6))\n",
    "        plt.subplot(4, 1, 1)\n",
    "        plt.plot(np.arange(0, len(signal_error))/fs*1e6, signal_error, '-', label = 'Сигнал ошибки')\n",
    "        plt.title(f'Ошибка ФАПЧ при исходной разнице {np.abs(f_sig - f_vco)} Гц')\n",
    "        plt.xlabel('Время t, мкс ')\n",
    "        plt.ylabel('Амплитуда')\n",
    "        plt.grid()\n",
    "        plt.legend()\n",
    "        \n",
    "        plt.subplot(4, 1, 2)\n",
    "        plt.plot(np.arange(0, len(phase_detector_out))/fs*1e6, phase_detector_out, '-', label = 'Выход фазового детектора')\n",
    "        plt.title('Вызод фазового детектора')\n",
    "        plt.xlabel('Время t, мкс ')\n",
    "        plt.ylabel('Амплитуда')\n",
    "        plt.grid()\n",
    "        plt.legend()\n",
    "\n",
    "        plt.subplot(4, 1, 3)\n",
    "        plt.plot(np.arange(0, len(signal_out))/fs*1e6, signal_out, '-', label = 'Выходной сигнал')\n",
    "        plt.plot(np.arange(0, len(signal_input))/fs*1e6, signal_input, '--', label = 'Входной сигнал')\n",
    "        plt.title('Сравнение входного и выходного сигналов')\n",
    "        plt.xlabel('Время t, мкс ')\n",
    "        plt.grid()\n",
    "        plt.legend()\n",
    "        \n",
    "        plt.subplot(4, 1, 4)\n",
    "        plt.plot(np.arange(0, len(freq_vco))/fs*1e6, freq_vco/(2*np.pi*t), '-', label = 'Частота ГУН')\n",
    "        plt.title('Частота ГУН')\n",
    "        plt.xlabel('Время t, мкс ')\n",
    "        plt.grid()\n",
    "        plt.legend()\n",
    "        plt.tight_layout()\n",
    "        \n",
    "    return signal_error, phase_detector_out, signal_out, signal_input, loop_filt_out, freq_vco"
   ]
  },
  {
   "cell_type": "markdown",
   "id": "4b4fc24a",
   "metadata": {},
   "source": [
    "Проверка работоспособности"
   ]
  },
  {
   "cell_type": "code",
   "execution_count": null,
   "id": "00bf8fa8",
   "metadata": {},
   "outputs": [],
   "source": [
    "vco_phase = 0\n",
    "integral_out = 0\n",
    "w_resonans = 2*np.pi*100\n",
    "demp_factor = 1\n",
    "_, _, _, _, _, _ = PLL(fs, 1500, 1800, np.pi/3, K_vco, K_pd, w_resonans, demp_factor, True)"
   ]
  },
  {
   "cell_type": "code",
   "execution_count": null,
   "id": "f29d5004",
   "metadata": {},
   "outputs": [],
   "source": [
    "fs = 1e6\n",
    "\n",
    "f_vco = 1500\n",
    "f_step = 50\n",
    "f_sig = np.arange(1, 30)*f_step\n",
    "\n",
    "p_sig = 0\n",
    "\n",
    "K_vco = 1\n",
    "K_pd = 1\n",
    "\n",
    "w_resonans = 2*np.pi*100\n",
    "demp_factor = 0.5\n",
    "\n",
    "for freq_signal in f_sig:\n",
    "    vco_phase = 0\n",
    "    integral_out = 0\n",
    "    _, _, _, _, _, _ = PLL(fs, f_vco, freq_signal, p_sig, K_vco, K_pd, w_resonans, demp_factor, True)"
   ]
  },
  {
   "cell_type": "markdown",
   "id": "62cce46d",
   "metadata": {},
   "source": [
    "По представленным результатам можно заключить, что для заданных параметров система ФАПЧ при исходной частоте ГУН 1500 Гц (то есть при изначально несинхронизированном состоянии), смогла захватить входной сигнал, когда его частота была равна 1150 Гц, то есть когда разница между частотой входного сигнала и исходной частотой ГУН составляла 350 Гц."
   ]
  },
  {
   "cell_type": "markdown",
   "id": "a07628fa",
   "metadata": {},
   "source": [
    "Для определения полосы удержания было проведено аналогичное моделирование (с модифицированной функцией, чтобы система изначально находилась в синхронизированном состоянии). Был создан сигнал путем конкатенации сигналов с частотами, которые отличаются от соседних на 50 Гц. При 20 таких сигналов система каждый раз подстраивалась и не выходила из состояния синхронизации.\n",
    "\n",
    "Ниже будет просто приведен пример моделирования с переключением частоты\n"
   ]
  },
  {
   "cell_type": "code",
   "execution_count": null,
   "id": "a5f40bd9",
   "metadata": {},
   "outputs": [],
   "source": [
    "def PLL_mod(fs, f_vco, K_vco, K_pd, w_resonans, demp_factor, visible):\n",
    "    \n",
    "    Ts = 1/fs\n",
    "    t = np.arange(0, 1e6)/fs\n",
    "\n",
    "    g_1 = 2*(1 - np.exp(-w_resonans*demp_factor*Ts)*np.cos(w_resonans*np.sqrt(1-demp_factor**2)*Ts))\n",
    "    g_2 = np.exp(-2*w_resonans*demp_factor*Ts) - 1 + g_1\n",
    "\n",
    "    K_i = g_2/(K_vco*K_pd)\n",
    "    K_p = g_1/(K_vco*K_pd)\n",
    "\n",
    "    # signal_input = (np.sin(2*np.pi*f_vco*t[0:len(t)//2]))\n",
    "    signal_input = np.hstack((np.sin(2*np.pi*1700*t[0:len(t)//2]), np.sin(2*np.pi*2300*t[len(t)//2:len(t)])))\n",
    "    # f_step = 250\n",
    "    # for i in np.arange(1, 2):\n",
    "    #     signal_input = np.hstack((signal_input, np.sin(2*np.pi*(f_vco + f_step*i)*t[(len(t)//2)*i : (len(t)//2)*(i+1)])))\n",
    "\n",
    "    phase_detector_out = np.zeros((np.shape(signal_input)))\n",
    "    phase_detector_out[0] = K_pd*signal_input[0]*np.cos(2*np.pi*f_vco*t[0])\n",
    "\n",
    "    loop_filt_out = np.zeros((np.shape(signal_input)))\n",
    "    loop_filt_out[0] = K_p*phase_detector_out[0]\n",
    "\n",
    "    phase_vco = np.zeros((np.shape(signal_input)))\n",
    "    freq_vco = np.zeros((np.shape(signal_input)))\n",
    "\n",
    "    vco_out = np.zeros((np.shape(signal_input)))\n",
    "    vco_out[0], freq_vco[0], phase_vco[0] = np.real(VCO(0, K_vco, f_vco, t[0]))\n",
    "\n",
    "    signal_error = np.zeros((np.shape(signal_input)))\n",
    "    signal_out = np.zeros((np.shape(signal_input)))\n",
    "\n",
    "\n",
    "    for i in np.arange(1, len(signal_input)):\n",
    "        \n",
    "        phase_detector_out[i], _ = Phase_Detector_Mult(signal_input[i], vco_out[i-1], K_pd)\n",
    "        _, loop_filt_out[i] = Loop_Filt(phase_detector_out[i], K_i, K_p)\n",
    "        vco_out[i], freq_vco[i], phase_vco[i] = np.real(VCO(loop_filt_out[i], K_vco, f_vco, t[i]))\n",
    "        signal_out[i] = np.sin(freq_vco[i])\n",
    "        signal_error[i] = signal_input[i] - signal_out[i]\n",
    "    \n",
    "    if visible == True:\n",
    "        plt.figure(figsize=(12, 6))\n",
    "        plt.subplot(4, 1, 1)\n",
    "        plt.plot(np.arange(0, len(signal_error))/fs*1e6, signal_error, '-', label = 'Сигнал ошибки')\n",
    "        plt.title('Ошибка ФАПЧ')\n",
    "        plt.xlabel('Время t, мкс ')\n",
    "        plt.ylabel('Амплитуда')\n",
    "        plt.grid()\n",
    "        plt.legend()\n",
    "        \n",
    "        plt.subplot(4, 1, 2)\n",
    "        plt.plot(np.arange(0, len(phase_detector_out))/fs*1e6, phase_detector_out, '-', label = 'Выход фазового детектора')\n",
    "        plt.title('Вызод фазового детектора')\n",
    "        plt.xlabel('Время t, мкс ')\n",
    "        plt.ylabel('Амплитуда')\n",
    "        plt.grid()\n",
    "        plt.legend()\n",
    "\n",
    "        plt.subplot(4, 1, 3)\n",
    "        plt.plot(np.arange(0, len(signal_out))/fs*1e6, signal_out, '-', label = 'Выходной сигнал')\n",
    "        plt.plot(np.arange(0, len(signal_input))/fs*1e6, signal_input, '--', label = 'Входной сигнал')\n",
    "        plt.title('Сравнение входного и выходного сигналов')\n",
    "        plt.xlabel('Время t, мкс ')\n",
    "        plt.grid()\n",
    "        plt.legend()\n",
    "        \n",
    "        plt.subplot(4, 1, 4)\n",
    "        plt.plot(np.arange(0, len(freq_vco))/fs*1e6, freq_vco/(2*np.pi*t), '-', label = 'Частота ГУН')\n",
    "        plt.title('Частота ГУН')\n",
    "        plt.xlabel('Время t, мкс ')\n",
    "        plt.grid()\n",
    "        plt.legend()\n",
    "        plt.tight_layout()\n",
    "        \n",
    "    return signal_error, phase_detector_out, signal_out, signal_input, loop_filt_out, freq_vco, phase_vco"
   ]
  },
  {
   "cell_type": "code",
   "execution_count": null,
   "id": "e9cecafe",
   "metadata": {},
   "outputs": [],
   "source": [
    "vco_phase = 0\n",
    "integral_out = 0\n",
    "w_resonans = 2*np.pi*100\n",
    "signal_error, phase_detector_out, signal_out, signal_input, loop_filt_out, freq_vco, phase_vco = PLL_mod(fs, 1600, K_vco, K_pd, w_resonans, demp_factor, True)"
   ]
  },
  {
   "cell_type": "markdown",
   "id": "a389a568",
   "metadata": {},
   "source": [
    "После первой подстройки была изменена частота входного сигнала и ФАПЧ снова подстроился под нее"
   ]
  },
  {
   "cell_type": "markdown",
   "id": "7a7afe40",
   "metadata": {},
   "source": [
    "Также было выяснено, что от значения резонансной частоты зависит скорость подстройки и ошибка ФАПЧ.\n",
    "\n",
    "Ниже проведено моделирование при фиксированной частоте входного сигнала и изменяющей резонансной частоты."
   ]
  },
  {
   "cell_type": "code",
   "execution_count": null,
   "id": "e210fd75",
   "metadata": {},
   "outputs": [],
   "source": [
    "fs = 1e6\n",
    "\n",
    "f_vco = 1500\n",
    "f_sig = 2000\n",
    "p_sig = 0\n",
    "\n",
    "K_vco = 1\n",
    "K_pd = 1\n",
    "\n",
    "\n",
    "w_resonans = np.arange(1, 10)*2*np.pi*100\n",
    "demp_factor = 0.5\n",
    "\n",
    "for w_res in w_resonans:\n",
    "    vco_phase = 0\n",
    "    integral_out = 0\n",
    "    _, _, _, _, _, _ = PLL(fs, f_vco, f_sig, p_sig, K_vco, K_pd, w_res, demp_factor, True)"
   ]
  },
  {
   "cell_type": "markdown",
   "id": "074bf975",
   "metadata": {},
   "source": [
    "Полученные результаты моделирования показывают, что при увеличении резонансной частоты увеличивается полоса захвата ФАПЧ, уменьшается время захвата, но но также увеличивается ошибка ФАПЧ во время удержания"
   ]
  },
  {
   "cell_type": "markdown",
   "id": "cc8663eb",
   "metadata": {},
   "source": [
    "## Синтезатор частот\n",
    "На основе полученного ФАПЧ сделаем синтезатор частот. В данной реализации сильно упрощен момент с делителями частот, так как система настроена на гармонические сигналы, а корректный делитель нужно делать с прямоугольными импульсами и соответственно вводить в схему блоки конвертации гармонического в прямоугольный сигнал."
   ]
  },
  {
   "cell_type": "code",
   "execution_count": null,
   "id": "68469705",
   "metadata": {},
   "outputs": [],
   "source": [
    "def Freq_Synt(fs, f_osc, R, N, K_vco, K_pd, w_resonans, demp_factor, visible):\n",
    "    Ts = 1/fs\n",
    "    t = np.arange(0, 2000*fs/f_osc)/fs\n",
    "\n",
    "    g_1 = 2*(1 - np.exp(-w_resonans*demp_factor*Ts)*np.cos(w_resonans*np.sqrt(1.0-demp_factor**2)*Ts))\n",
    "    g_2 = np.exp(-2*w_resonans*demp_factor*Ts) - 1 + g_1\n",
    "\n",
    "    K_i = g_2/(K_vco*K_pd)\n",
    "    K_p = g_1/(K_vco*K_pd)\n",
    "\n",
    "    signal_input = np.sin(2*np.pi*f_osc/R*t)\n",
    "    f_vco = f_osc/R\n",
    "\n",
    "    phase_detector_out = np.zeros((np.shape(signal_input)))\n",
    "    phase_detector_out[0] = K_pd*signal_input[0]*np.cos(2*np.pi*f_vco*t[0])\n",
    "\n",
    "    loop_filt_out = np.zeros((np.shape(signal_input)))\n",
    "    loop_filt_out[0] = K_p*phase_detector_out[0]\n",
    "\n",
    "    phase_vco = np.zeros((np.shape(signal_input)))\n",
    "    freq_vco = np.zeros((np.shape(signal_input)))\n",
    "\n",
    "    vco_out = np.zeros((np.shape(signal_input)))\n",
    "    vco_out[0], freq_vco[0], phase_vco[0] = np.real(VCO(0, K_vco, f_vco, t[0]))\n",
    "\n",
    "    signal_out = np.zeros((np.shape(signal_input)))\n",
    "\n",
    "\n",
    "    for i in np.arange(1, len(signal_input)):\n",
    "        \n",
    "        phase_detector_out[i], _ = Phase_Detector_Mult(signal_input[i], vco_out[i-1], K_pd)\n",
    "        _, loop_filt_out[i] = Loop_Filt(phase_detector_out[i], K_i, K_p)\n",
    "        _, freq_vco[i], _ = (VCO(loop_filt_out[i], K_vco, f_vco, t[i]))\n",
    "        vco_out[i] = np.cos(freq_vco[i]/N)\n",
    "        signal_out[i] = np.sin(freq_vco[i])\n",
    "    \n",
    "    if visible == True:\n",
    "        plt.figure(figsize=(12, 6))    \n",
    "        plt.subplot(4, 1, 1)\n",
    "        plt.plot(np.arange(0, len(phase_detector_out))/fs*1e6, phase_detector_out, '-', label = 'Выход фазового детектора')\n",
    "        plt.title('Вызод фазового детектора')\n",
    "        plt.xlabel('Время t, мкс ')\n",
    "        plt.ylabel('Амплитуда')\n",
    "        plt.grid()\n",
    "        plt.legend()\n",
    "        \n",
    "        plt.subplot(4, 1, 2)\n",
    "        plt.plot(np.arange(0, len(loop_filt_out))/fs*1e6, loop_filt_out, '-', label = 'Выход петлевого фильтра')\n",
    "        plt.title('Выход петлевого фильтра')\n",
    "        plt.xlabel('Время t, мкс ')\n",
    "        plt.grid()\n",
    "        plt.legend()\n",
    "        \n",
    "        plt.subplot(4, 1, 3)\n",
    "        plt.plot(np.arange(0, len(freq_vco))/fs*1e6, freq_vco/(2*np.pi*t), '-', label = 'Частота ГУН')\n",
    "        plt.title('Частота ГУН')\n",
    "        plt.xlabel('Время t, мкс ')\n",
    "        plt.grid()\n",
    "        plt.legend()\n",
    "        \n",
    "        plt.subplot(4, 1, 4)\n",
    "        plt.plot(np.arange(0, len(signal_out))/fs*1e6, signal_out, '-', label = 'Выходной сигнал с ГУН')\n",
    "        plt.plot(np.arange(0, len(signal_input))/fs*1e6, signal_input, '-', label = 'Входной сигнал после делителя R')\n",
    "        plt.title(f'Сравнение входного и выходного сигнала при R = {R} и N = {N}')\n",
    "        plt.xlabel('Время t, мкс ')\n",
    "        plt.grid()\n",
    "        plt.legend()\n",
    "        plt.tight_layout()\n",
    "        \n",
    "    return phase_detector_out, signal_out, signal_input, loop_filt_out, freq_vco"
   ]
  },
  {
   "cell_type": "markdown",
   "id": "764b7441",
   "metadata": {},
   "source": [
    "Путем моделирования было выявлено, что синтезатор частот с реализованным ФАПЧ работает достаточно плохо, так как при фиксированном значении частоты резонанса может генерировать частоты в очень ограниченном диапазоне.\n",
    "\n",
    "Ниже приведен пример с генерацией частот с высокой кратностью (N > 10) и с низкой кратностью (N < 10)"
   ]
  },
  {
   "cell_type": "markdown",
   "id": "c87c1dab",
   "metadata": {},
   "source": [
    "#### N > 10"
   ]
  },
  {
   "cell_type": "code",
   "execution_count": null,
   "id": "057fc3fb",
   "metadata": {},
   "outputs": [],
   "source": [
    "w_resonans = 2*np.pi*2500\n",
    "demp_factor = 0.5\n",
    "fs = 1e7\n",
    "f_osc = 1e5\n",
    "\n",
    "R = 100\n",
    "N = np.arange(10, 20, 1)\n",
    "\n",
    "K_vco = 1\n",
    "K_pd = 1\n",
    "\n",
    "for n in N:\n",
    "    vco_phase = 0\n",
    "    integral_out = 0\n",
    "    phase_detector_out, signal_out, signal_input, loop_filt_out, freq_vco = Freq_Synt(fs, f_osc, R, n, K_vco, K_pd, w_resonans, demp_factor, True)"
   ]
  },
  {
   "cell_type": "markdown",
   "id": "19862935",
   "metadata": {},
   "source": [
    "Анализ результатов показал, что при резонансной частоте 2500 Гц синтезатор частот почти корректно генерирует частоты от 20 кГц до 40 кГц с шагом 2 кГц. Однако даже при установившемся состоянии можно заметить, что на выходе получается не чистый гармонический сигнал, а гармонический сигнал, у которого немного \"ходит\" частота (сигнал то шире, то уже)"
   ]
  },
  {
   "cell_type": "markdown",
   "id": "2738b615",
   "metadata": {},
   "source": [
    "Проанализируем спектр полученного сигнала для каждого случая"
   ]
  },
  {
   "cell_type": "code",
   "execution_count": null,
   "id": "139e190c",
   "metadata": {},
   "outputs": [],
   "source": [
    "def Plot_Spectrum(signal, fs, N):\n",
    "    n = len(signal)\n",
    "    yf = np.fft.fft(signal)\n",
    "    amplitude = np.abs(yf) / n\n",
    "    amplitude = amplitude[:n//2]\n",
    "    xf = np.fft.fftfreq(n, 1/fs)[:n//2]\n",
    "\n",
    "    plt.figure(figsize=(10, 5))\n",
    "    plt.title(f'Спектр выходного сигнала при N = {N}')\n",
    "    plt.xlabel('Частота, Гц')\n",
    "    plt.semilogy(xf, amplitude, label='Амплитудный спектр')\n",
    "    plt.xlim([0, 2e5])\n",
    "    plt.grid()"
   ]
  },
  {
   "cell_type": "code",
   "execution_count": null,
   "id": "bb00385a",
   "metadata": {},
   "outputs": [],
   "source": [
    "\n",
    "\n",
    "w_resonans = 2*np.pi*2500\n",
    "demp_factor = 0.5\n",
    "fs = 1e7\n",
    "f_osc = 1e5\n",
    "\n",
    "R = 100\n",
    "N = np.arange(10, 20, 1)\n",
    "\n",
    "K_vco = 1\n",
    "K_pd = 1\n",
    "\n",
    "for n in N:\n",
    "    vco_phase = 0\n",
    "    integral_out = 0\n",
    "    phase_detector_out, signal_out, signal_input, loop_filt_out, freq_vco = Freq_Synt(fs, f_osc, R, n, K_vco, K_pd, w_resonans, demp_factor, False)\n",
    "    Plot_Spectrum(signal_out, fs, n)"
   ]
  },
  {
   "cell_type": "markdown",
   "id": "bf468970",
   "metadata": {},
   "source": [
    "По полученным спектрам видно, что он достаточно широкий, то есть много побочных частот (правда, большинство этих частот получаеются в начальные моменты времени, когда ФАПЧ подстраивает свою частоту). Однако анализ спектра вблизи требуемой частоты показывает, что на выходе получается не четкий нармонический сигнал (чем выше выходная частота, тем ниже нужный частотный пик относительно остальных)"
   ]
  },
  {
   "cell_type": "markdown",
   "id": "d63ac78b",
   "metadata": {},
   "source": [
    "#### N < 10"
   ]
  },
  {
   "cell_type": "code",
   "execution_count": null,
   "id": "4f16c00c",
   "metadata": {},
   "outputs": [],
   "source": [
    "w_resonans = 2*np.pi*1000\n",
    "demp_factor = 0.5\n",
    "fs = 1e7\n",
    "f_osc = 1e5\n",
    "\n",
    "R = 100\n",
    "N = np.arange(3, 8)\n",
    "\n",
    "K_vco = 1\n",
    "K_pd = 1\n",
    "\n",
    "for n in N:\n",
    "    vco_phase = 0\n",
    "    integral_out = 0\n",
    "    phase_detector_out, signal_out, signal_input, loop_filt_out, freq_vco = Freq_Synt(fs, f_osc, R, n, K_vco, K_pd, w_resonans, demp_factor, True)\n",
    "    Plot_Spectrum(signal_out, fs, n)"
   ]
  },
  {
   "cell_type": "markdown",
   "id": "a2e8176d",
   "metadata": {},
   "source": [
    "По полученным результатам видно, что при значении резонансной частоты контура 1 кГц корректно были сгенерированы сигналы при N = 3, 4, 5, что в целом подтвержает их спектр. Сигналы же при N = 6, 7 являются некорреткными, так как за установленное время и при заданных параметрах система ФАПЧ не подстроилась."
   ]
  },
  {
   "cell_type": "markdown",
   "id": "776612b7",
   "metadata": {},
   "source": [
    "Вывод:\n",
    "\n",
    "В данной лабораторной работе была разработана и промоделирована система ФАПЧ и синтезатор частоты на ее основе.\n",
    "ФАПЧ состоит из следующих блоков:\n",
    "\n",
    "1) Фазовый детектор\n",
    "\n",
    "В работе было реализовано 2 вида фазовых детекторов: на основе умножителя и через непосредственное вычисление фаз. Для второго варианта была рассмотрена ситуация с добавлением неидельностей (мертвая зона и джиттер). Однако дальнейшие моделирования были проведены использованием только фазового детектора на основе обычного умножителя.\n",
    "\n",
    "2) Петлевой фильтр\n",
    "\n",
    "Он необходим, чтобы преобразовывать сигнал с фазового детектора в управляющий сигнал для ГУН. Для данной работы в качестве петлевого фильтра был реализован пропорционально-интегрирующий фильтр. При моделировании подбор его коэффициентов осуществлялся с помощью формулы с резонансной частотой и коэффициентом ослабления в качестве входных параметров.\n",
    "\n",
    "3) ГУН\n",
    "\n",
    "Генератор, управляемый напряжением, генерирует гармоническое колебание с постоянной составляющей частоты, которая задана заранее (начальная частота ГУН) и переменной составляющей, которая зависит от управляющего сигнала. Было показано, что мгновенная частота ГУН напрямую зависит от упраляющего сигнала (чем больше значение сигнала, тем больше частота ГУН)\n",
    "\n",
    "Далее была собрана система ФАПЧ. Было проведено моделирвание с целью получить значение полосы захвата и полосы удержания. При заданных для моделирования параметров полоса захвата была равно 350 Гц. Полосу удержания промоделировать не удалось. Вместо этого была промоделирована ситуация с изменением частоты входного сигнала после синхронизации ФАПЧ.\n",
    "Также было проведено моделирование, которое показало, что увеличение резонансной частоты (от которой напрямую зависят коэффициенты петлевого фильтра) позволяет быстрее захватывать сигнал, но с увеличением средней ошибки в процессе удержания.\n",
    "\n",
    "Далее был реализован синтезатор частот на основе разработанного ФАПЧ. Моделирование показало, что полоса рабичих частот очень маленькая и необходимо постоянно подстраивать значение резонансной частоты для корректных результатов при различных коэффициентах деления R и N. Это доказывает, что представленная реализация сильно неидеальная и требует доработок\n"
   ]
  }
 ],
 "metadata": {
  "kernelspec": {
   "display_name": "Python 3",
   "language": "python",
   "name": "python3"
  },
  "language_info": {
   "codemirror_mode": {
    "name": "ipython",
    "version": 3
   },
   "file_extension": ".py",
   "mimetype": "text/x-python",
   "name": "python",
   "nbconvert_exporter": "python",
   "pygments_lexer": "ipython3",
   "version": "3.12.3"
  }
 },
 "nbformat": 4,
 "nbformat_minor": 5
}
